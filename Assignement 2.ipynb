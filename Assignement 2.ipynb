{
 "cells": [
  {
   "cell_type": "markdown",
   "id": "002d1abd-b60c-4a24-b792-87c60bf5fc06",
   "metadata": {},
   "source": [
    "Problem : - 1"
   ]
  },
  {
   "cell_type": "code",
   "execution_count": null,
   "id": "1046abd0-405f-4e53-ba99-6b455dcde94e",
   "metadata": {},
   "outputs": [],
   "source": [
    "# Write a program to reverse a string\n",
    "User_input = input(\"Type any word to reverse the word \") # Input from the user to store any sentence or word.\n",
    "reversed_string = User_input [::-1] # reversing the word by slicing\n",
    "print(reversed_string) # Printing the output"
   ]
  },
  {
   "cell_type": "code",
   "execution_count": 3,
   "id": "3b687bca-c1d3-41bf-a2b1-4c09ece69c44",
   "metadata": {},
   "outputs": [
    {
     "name": "stdin",
     "output_type": "stream",
     "text": [
      "Type any word to reverse the word  etgtwg\n"
     ]
    },
    {
     "data": {
      "text/plain": [
       "'ETGTWG'"
      ]
     },
     "execution_count": 3,
     "metadata": {},
     "output_type": "execute_result"
    }
   ],
   "source": [
    "# Covert String to upper case\n",
    "User_input = input(\"Type any word to convert to uppercase \") # Input from the user to store any sentence or word.\n",
    "User_input.upper() # Converting the input to upper case"
   ]
  },
  {
   "cell_type": "code",
   "execution_count": 4,
   "id": "520930f0-081e-4b0c-8a5c-e24cab943ffc",
   "metadata": {},
   "outputs": [
    {
     "name": "stdin",
     "output_type": "stream",
     "text": [
      "Type any word to reverse the word  HWHJKCHWJC\n"
     ]
    },
    {
     "data": {
      "text/plain": [
       "'hwhjkchwjc'"
      ]
     },
     "execution_count": 4,
     "metadata": {},
     "output_type": "execute_result"
    }
   ],
   "source": [
    "# Covert String to lower case\n",
    "User_input = input(\"Type any word to convert to lowercase\") # Input from the user to store any sentence or word.\n",
    "User_input.lower() # Converting the input to lower case"
   ]
  },
  {
   "cell_type": "code",
   "execution_count": 5,
   "id": "117e69bc-cf61-49a7-b431-da8cb9089506",
   "metadata": {},
   "outputs": [
    {
     "name": "stdin",
     "output_type": "stream",
     "text": [
      "Type any sentence or word to count the number of vowels in sentence. GNEIGEJHRBGJGB\n"
     ]
    },
    {
     "name": "stdout",
     "output_type": "stream",
     "text": [
      "Number of vowels in the sentence 3\n"
     ]
    }
   ],
   "source": [
    "# counting the number of vowels in a string\n",
    "User_input = input(\"Type any sentence or word to count the number of vowels in sentence.\") # Input from the user to store any sentence or word.\n",
    "Vowels = \"aeiouAEIOU\" # Storing the vowels in upper case / Lower case to recognise if user input the data in lower case or uppercase \n",
    "vowel_count = sum(User_input.count(Vowels) for Vowels in Vowels) # counting the length of vowels from the user_input variable. \n",
    "print(f\"Number of vowels in the sentence {vowel_count}\") "
   ]
  },
  {
   "cell_type": "code",
   "execution_count": 6,
   "id": "f8b29513-2018-442e-a005-36e1a2bbf1cd",
   "metadata": {},
   "outputs": [
    {
     "name": "stdin",
     "output_type": "stream",
     "text": [
      "Type any sentence or word to count the number of vowels in sentence. JHFGKJDFBJDFNVJKVFDV\n"
     ]
    },
    {
     "name": "stdout",
     "output_type": "stream",
     "text": [
      "Number of vowels in the sentence 0\n"
     ]
    }
   ],
   "source": [
    "# counting the number of vowels in a string\n",
    "User_input = input(\"Type any sentence or word to count the number of vowels in sentence.\") # Input from the user to store any sentence or word.\n",
    "Vowels != \"aeiouAEIOU\" # Storing the vowels in upper case / Lower case to recognise if user input the data in lower case or uppercase \n",
    "vowel_count = sum(User_input.count(Vowels) for Vowels in Vowels) # counting the length of vowels from the user_input variable. \n",
    "print(f\"Number of vowels in the sentence {vowel_count}\") "
   ]
  },
  {
   "cell_type": "code",
   "execution_count": 16,
   "id": "f1b3a140-eecb-4f3d-b3da-b95c97dd81c0",
   "metadata": {},
   "outputs": [
    {
     "name": "stdin",
     "output_type": "stream",
     "text": [
      "Type any sentence to remove whitespaces aerge ergetgeg\n"
     ]
    },
    {
     "name": "stdout",
     "output_type": "stream",
     "text": [
      "aergeergetgeg\n"
     ]
    }
   ],
   "source": [
    "# Remove all whitespaces from a string \n",
    "User_input = input(\"Type any sentence to remove whitespaces\") # Input from the user to store any sentence or word.\n",
    "string_without_spaces = User_input.replace(\" \", \"\") # Removing spaces using replace function\n",
    "print(string_without_spaces)  # Printing the output"
   ]
  },
  {
   "cell_type": "code",
   "execution_count": 4,
   "id": "5d1d21e4-ac0c-42bc-9ca3-3c5bc0a0c1f8",
   "metadata": {},
   "outputs": [
    {
     "name": "stdin",
     "output_type": "stream",
     "text": [
      "check the length of the function vhqeriuiovjqelf\\\n"
     ]
    },
    {
     "name": "stdout",
     "output_type": "stream",
     "text": [
      "16\n"
     ]
    }
   ],
   "source": [
    "# Find length of a string\n",
    "User_input= input(\"check the length of the function\")  # Input from the user to store any sentence or word.\n",
    "length = User_input.count('') # using count function counting each string.\n",
    "length -= 1  # Decrease length by 1\n",
    "print(length)  # Printing the output"
   ]
  },
  {
   "cell_type": "code",
   "execution_count": 10,
   "id": "6c862836-699c-4424-b90c-fd407e387a58",
   "metadata": {},
   "outputs": [
    {
     "name": "stdout",
     "output_type": "stream",
     "text": [
      "1\n"
     ]
    }
   ],
   "source": [
    "# Count the occurrences of a word in a string.\n",
    "User_input= \"Count the occurrences of a word in a string.\" # Input from the user to store any sentence or word.\n",
    "length = User_input.count(\"the\") \n",
    "print (length) # Printing the output"
   ]
  },
  {
   "cell_type": "code",
   "execution_count": 15,
   "id": "216348d9-1d77-4b2d-8ea6-4b3621832d5b",
   "metadata": {},
   "outputs": [
    {
     "name": "stdout",
     "output_type": "stream",
     "text": [
      "r\n"
     ]
    }
   ],
   "source": [
    "# Find the first occurrence of a word in a string.\n",
    "User_input= \"rakesh Etikala\" \n",
    "first_word =User_input [0] # accessing the first word in a string. \n",
    "print(first_word) # Printing the output"
   ]
  },
  {
   "cell_type": "code",
   "execution_count": 16,
   "id": "9d2bea42-7e06-478d-98cd-a4a1985c870d",
   "metadata": {},
   "outputs": [
    {
     "name": "stdout",
     "output_type": "stream",
     "text": [
      "a\n"
     ]
    }
   ],
   "source": [
    "# Find the last occurrence of a word in a string.\n",
    "User_input= \"rakesh Etikala\"\n",
    "last_word = User_input [-1] # accessing the last word in a string. \n",
    "print(last_word) # Printing the output"
   ]
  },
  {
   "cell_type": "code",
   "execution_count": null,
   "id": "2f10dd7d-f729-4059-a90b-0c390cf14566",
   "metadata": {},
   "outputs": [],
   "source": [
    "# Split a string into a list of words.\n",
    "User_input = input(\"Type any sentence to split \") # Input from the user to store any sentence or word.\n",
    "string = User_input.rsplit(sep=None, maxsplit=-1) # Splitting  \n",
    "print(string) # Printing the output"
   ]
  },
  {
   "cell_type": "code",
   "execution_count": 30,
   "id": "53131bfc-45c4-4e38-bf63-4645431e2f1b",
   "metadata": {},
   "outputs": [
    {
     "name": "stdin",
     "output_type": "stream",
     "text": [
      "Type any sentence to Convert a string where words are separated by spaces to one where words are separated by underscores.  rjvqoive qiorjoijv njernjvoierjv\n"
     ]
    },
    {
     "name": "stdout",
     "output_type": "stream",
     "text": [
      "rjvqoive_qiorjoijv_njernjvoierjv\n"
     ]
    }
   ],
   "source": [
    "#Convert a string where words are separated by spaces to one where words are separated by underscores.\n",
    "User_input = input(\"Type any sentence to Convert a string where words are separated by spaces to one where words are separated by underscores. \")\n",
    "string_without_spaces = User_input.replace(\" \", \"_\")\n",
    "print(string_without_spaces)"
   ]
  },
  {
   "cell_type": "code",
   "execution_count": 36,
   "id": "fc9f2cfd-c328-4b91-8e5a-cddf9e5eca60",
   "metadata": {},
   "outputs": [
    {
     "name": "stdin",
     "output_type": "stream",
     "text": [
      "Enter any string to convert it to title hello world\n"
     ]
    },
    {
     "name": "stdout",
     "output_type": "stream",
     "text": [
      "Hello World\n"
     ]
    }
   ],
   "source": [
    "#Convert a string to title case\n",
    "user_input = input(\"Enter any string to convert it to title\") # Input from the user to store any sentence or word.\n",
    "title = user_input.title() # Converting user input as title by using title function\n",
    "print(title) # Printing the output"
   ]
  },
  {
   "cell_type": "markdown",
   "id": "02fb692c-8544-4a75-b54b-860e187a4c1f",
   "metadata": {},
   "source": [
    "list"
   ]
  },
  {
   "cell_type": "code",
   "execution_count": 1,
   "id": "e298e39d-60b3-4311-a4c6-2637b59520ed",
   "metadata": {},
   "outputs": [
    {
     "name": "stdout",
     "output_type": "stream",
     "text": [
      "[1, 2, 3, 4, 5, 6, 7, 8, 9]\n"
     ]
    }
   ],
   "source": [
    "# Create a list with integers from 1 to 10.\n",
    "l1 = [1,2,3,4,5,6,7,8,9] # Storing integers in a list\n",
    "print(l1) # Printing the output"
   ]
  },
  {
   "cell_type": "code",
   "execution_count": 2,
   "id": "530d68d2-fea4-49d3-adae-21a4c6a3a2b6",
   "metadata": {},
   "outputs": [
    {
     "name": "stdout",
     "output_type": "stream",
     "text": [
      "6\n"
     ]
    }
   ],
   "source": [
    "# Find the length of a list without using the `len()` function.\n",
    "l1 = [1,2,3,4,5,6] # Storing integers in a list\n",
    "count = len(l1)\n",
    "print(count) # Printing the output"
   ]
  },
  {
   "cell_type": "code",
   "execution_count": 3,
   "id": "18622bfa-868d-49d8-b30e-edd8dfc7657b",
   "metadata": {
    "tags": []
   },
   "outputs": [
    {
     "data": {
      "text/plain": [
       "[1, 2, 3, 4, 6]"
      ]
     },
     "execution_count": 3,
     "metadata": {},
     "output_type": "execute_result"
    }
   ],
   "source": [
    "# Append an element to the end of a list.\n",
    "l1 = [1,2,3,4] # Storing integers in a list\n",
    "l1 + [6] "
   ]
  },
  {
   "cell_type": "code",
   "execution_count": 4,
   "id": "1d9c1d98-74c1-433b-b879-04474914e440",
   "metadata": {},
   "outputs": [
    {
     "data": {
      "text/plain": [
       "[2]"
      ]
     },
     "execution_count": 4,
     "metadata": {},
     "output_type": "execute_result"
    }
   ],
   "source": [
    "# Insert an element at a specific index in a list.\n",
    "l1 = [1,2,3,4,2] # Storing integers in a list\n",
    "l1[1:2:6]"
   ]
  },
  {
   "cell_type": "code",
   "execution_count": 5,
   "id": "d7543574-f1d4-49f8-87f8-ba57004fd413",
   "metadata": {},
   "outputs": [
    {
     "data": {
      "text/plain": [
       "[1, 2, 3, 4, 2, 8]"
      ]
     },
     "execution_count": 5,
     "metadata": {},
     "output_type": "execute_result"
    }
   ],
   "source": [
    "# Append an element to the end of a list.\n",
    "l2 = [8] # appending integer in a list\n",
    "l1+l2"
   ]
  },
  {
   "cell_type": "code",
   "execution_count": 6,
   "id": "f53fd236-224d-463d-a63f-d9dac141be7e",
   "metadata": {},
   "outputs": [],
   "source": [
    "# Insert an element at a specific index in a list.\n",
    "l1.insert(2,88) "
   ]
  },
  {
   "cell_type": "code",
   "execution_count": 7,
   "id": "82d87efc-702b-43b6-a75c-4816550f5bb9",
   "metadata": {},
   "outputs": [
    {
     "data": {
      "text/plain": [
       "[1, 2, 88, 3, 4, 2]"
      ]
     },
     "execution_count": 7,
     "metadata": {},
     "output_type": "execute_result"
    }
   ],
   "source": [
    "l1"
   ]
  },
  {
   "cell_type": "code",
   "execution_count": 8,
   "id": "8d58a3d2-8892-4220-969c-8793147a5633",
   "metadata": {},
   "outputs": [],
   "source": [
    "# Remove an element from a list by its value.\n",
    "l1.remove(88)"
   ]
  },
  {
   "cell_type": "code",
   "execution_count": 9,
   "id": "932fe830-69bd-4086-87c8-0dcef7515bd7",
   "metadata": {},
   "outputs": [
    {
     "data": {
      "text/plain": [
       "[1, 2, 3, 4, 2]"
      ]
     },
     "execution_count": 9,
     "metadata": {},
     "output_type": "execute_result"
    }
   ],
   "source": [
    "l1"
   ]
  },
  {
   "cell_type": "code",
   "execution_count": 10,
   "id": "bb87b750-21b3-4cfe-bb30-b7cd6c5f9f90",
   "metadata": {},
   "outputs": [
    {
     "data": {
      "text/plain": [
       "0"
      ]
     },
     "execution_count": 10,
     "metadata": {},
     "output_type": "execute_result"
    }
   ],
   "source": [
    "# Find the index of the first occurrence of an element in a list.\n",
    "l1.index(1)"
   ]
  },
  {
   "cell_type": "code",
   "execution_count": 11,
   "id": "9fbdcebd-f259-458d-85a4-b9db1aca1f40",
   "metadata": {},
   "outputs": [
    {
     "data": {
      "text/plain": [
       "2"
      ]
     },
     "execution_count": 11,
     "metadata": {},
     "output_type": "execute_result"
    }
   ],
   "source": [
    "# Count the occurrences of an element in a list.\n",
    "l1.count(2)"
   ]
  },
  {
   "cell_type": "code",
   "execution_count": 12,
   "id": "4f2b1300-5fac-46e7-8def-fb12a53dd12d",
   "metadata": {},
   "outputs": [
    {
     "data": {
      "text/plain": [
       "[2, 4, 3, 2, 1]"
      ]
     },
     "execution_count": 12,
     "metadata": {},
     "output_type": "execute_result"
    }
   ],
   "source": [
    "# Reverse the order of elements in a list.\n",
    "l1 = [1,2,3,4,2]\n",
    "l1[::-1]"
   ]
  },
  {
   "cell_type": "code",
   "execution_count": 13,
   "id": "a1da6cca-0898-4e4c-8bc0-e4321bb8b6c3",
   "metadata": {},
   "outputs": [],
   "source": [
    "# Sort a list in ascending order.\n",
    "l1.sort()"
   ]
  },
  {
   "cell_type": "code",
   "execution_count": 14,
   "id": "787081e0-2e18-41e5-8cd2-ac5433173997",
   "metadata": {},
   "outputs": [
    {
     "data": {
      "text/plain": [
       "[1, 2, 2, 3, 4]"
      ]
     },
     "execution_count": 14,
     "metadata": {},
     "output_type": "execute_result"
    }
   ],
   "source": [
    "l1"
   ]
  },
  {
   "cell_type": "code",
   "execution_count": 15,
   "id": "ec4e2a73-c511-4d55-a861-ec0b0c1e3fa7",
   "metadata": {},
   "outputs": [],
   "source": [
    "# Sort a list in descending order.\n",
    "l1.sort(reverse=True)"
   ]
  },
  {
   "cell_type": "code",
   "execution_count": 16,
   "id": "2dc2f8dd-5456-46fd-8bf8-5ce36fbbd8bf",
   "metadata": {},
   "outputs": [
    {
     "data": {
      "text/plain": [
       "[4, 3, 2, 2, 1]"
      ]
     },
     "execution_count": 16,
     "metadata": {},
     "output_type": "execute_result"
    }
   ],
   "source": [
    "l1"
   ]
  },
  {
   "cell_type": "code",
   "execution_count": 17,
   "id": "c65cefad-d751-42cb-974f-ea94c576b8f2",
   "metadata": {},
   "outputs": [
    {
     "data": {
      "text/plain": [
       "12"
      ]
     },
     "execution_count": 17,
     "metadata": {},
     "output_type": "execute_result"
    }
   ],
   "source": [
    "# Find the sum of all elements in a list.\n",
    "add = sum(l1)\n",
    "add"
   ]
  },
  {
   "cell_type": "code",
   "execution_count": 18,
   "id": "5efdf040-7ad8-4c1f-9b5c-f87903f142e3",
   "metadata": {},
   "outputs": [
    {
     "data": {
      "text/plain": [
       "4"
      ]
     },
     "execution_count": 18,
     "metadata": {},
     "output_type": "execute_result"
    }
   ],
   "source": [
    "# Find the maximum value in a list.\n",
    "maximum_value = max(l1)\n",
    "maximum_value"
   ]
  },
  {
   "cell_type": "code",
   "execution_count": 19,
   "id": "3acdee73-c447-4edf-8845-8025374d9e09",
   "metadata": {},
   "outputs": [
    {
     "data": {
      "text/plain": [
       "1"
      ]
     },
     "execution_count": 19,
     "metadata": {},
     "output_type": "execute_result"
    }
   ],
   "source": [
    "# Find the minimum value in a list.\n",
    "minimum_value = min(l1)\n",
    "minimum_value"
   ]
  },
  {
   "cell_type": "code",
   "execution_count": 20,
   "id": "b9591cc5-f341-42bf-926f-6e2a9d1aad5c",
   "metadata": {},
   "outputs": [
    {
     "data": {
      "text/plain": [
       "[1, 2, 3, 4]"
      ]
     },
     "execution_count": 20,
     "metadata": {},
     "output_type": "execute_result"
    }
   ],
   "source": [
    "# Remove duplicates from a list.\n",
    "duplicate_values =  list(set(l1))\n",
    "duplicate_values"
   ]
  },
  {
   "cell_type": "code",
   "execution_count": 49,
   "id": "c17ee179-acdc-40a9-ab21-b008581f3580",
   "metadata": {},
   "outputs": [],
   "source": [
    "# Create a tuple with integers from 1 to 5.\n",
    "t1 = (1,2,3,4,5,5)"
   ]
  },
  {
   "cell_type": "code",
   "execution_count": 50,
   "id": "1638d721-37d7-49c5-bdc0-149a7d0e0dc9",
   "metadata": {},
   "outputs": [
    {
     "data": {
      "text/plain": [
       "3"
      ]
     },
     "execution_count": 50,
     "metadata": {},
     "output_type": "execute_result"
    }
   ],
   "source": [
    "# Access the third element of a tuple.\n",
    "t1 [2]"
   ]
  },
  {
   "cell_type": "code",
   "execution_count": 51,
   "id": "31f6e407-f7da-41cd-a664-d5b252c4a60d",
   "metadata": {},
   "outputs": [
    {
     "data": {
      "text/plain": [
       "2"
      ]
     },
     "execution_count": 51,
     "metadata": {},
     "output_type": "execute_result"
    }
   ],
   "source": [
    "# Count the occurrences of an element in a tuple.\n",
    "occurrences = t1.count(5)\n",
    "occurrences"
   ]
  },
  {
   "cell_type": "code",
   "execution_count": 52,
   "id": "26e1bd1f-f425-4a59-a26b-8d8e235e4419",
   "metadata": {},
   "outputs": [
    {
     "data": {
      "text/plain": [
       "4"
      ]
     },
     "execution_count": 52,
     "metadata": {},
     "output_type": "execute_result"
    }
   ],
   "source": [
    "# Find the index of the first occurrence of an element in a tuple.\n",
    "t1.index(5)"
   ]
  },
  {
   "cell_type": "code",
   "execution_count": 53,
   "id": "8e03608a-1062-4503-bac1-92df20a7d109",
   "metadata": {},
   "outputs": [],
   "source": [
    "# Convert a tuple to a list.\n",
    "tuple= (1,2,3)"
   ]
  },
  {
   "cell_type": "code",
   "execution_count": 54,
   "id": "10ef094d-5c3f-46f8-985f-ae4bd4b77824",
   "metadata": {},
   "outputs": [
    {
     "data": {
      "text/plain": [
       "tuple"
      ]
     },
     "execution_count": 54,
     "metadata": {},
     "output_type": "execute_result"
    }
   ],
   "source": [
    "type(tuple)"
   ]
  },
  {
   "cell_type": "code",
   "execution_count": 55,
   "id": "4b1f171e-4cdf-4f32-a466-2d7f589dbbb3",
   "metadata": {},
   "outputs": [],
   "source": [
    "come = [tuple]"
   ]
  },
  {
   "cell_type": "code",
   "execution_count": 56,
   "id": "f9ce7874-e669-4adc-88e1-a4a774c4dd45",
   "metadata": {},
   "outputs": [
    {
     "data": {
      "text/plain": [
       "[(1, 2, 3)]"
      ]
     },
     "execution_count": 56,
     "metadata": {},
     "output_type": "execute_result"
    }
   ],
   "source": [
    "come"
   ]
  },
  {
   "cell_type": "code",
   "execution_count": 57,
   "id": "8b68f208-2102-437b-b845-8b3e1ecb250f",
   "metadata": {},
   "outputs": [
    {
     "data": {
      "text/plain": [
       "list"
      ]
     },
     "execution_count": 57,
     "metadata": {},
     "output_type": "execute_result"
    }
   ],
   "source": [
    "type(come)"
   ]
  },
  {
   "cell_type": "code",
   "execution_count": 58,
   "id": "ee162aa6-f99f-48e1-8493-8994acd881cb",
   "metadata": {},
   "outputs": [],
   "source": [
    "# Concatenate two tuples.\n",
    "tuple1 = (1,2,3,4,5,6)\n",
    "tuple2 = (2,3,4,5,6,8)"
   ]
  },
  {
   "cell_type": "code",
   "execution_count": 59,
   "id": "09bc5b23-8e8d-4223-a196-af033bc1e7f5",
   "metadata": {},
   "outputs": [
    {
     "data": {
      "text/plain": [
       "(1, 2, 3, 4, 5, 6, 2, 3, 4, 5, 6, 8)"
      ]
     },
     "execution_count": 59,
     "metadata": {},
     "output_type": "execute_result"
    }
   ],
   "source": [
    "tuple1+tuple2"
   ]
  },
  {
   "cell_type": "code",
   "execution_count": 60,
   "id": "310af768-854d-4911-b0e5-8e7ac68a346c",
   "metadata": {},
   "outputs": [
    {
     "data": {
      "text/plain": [
       "(1, 2, 3, 4, 5, 6, 1, 2, 3, 4, 5, 6, 1, 2, 3, 4, 5, 6)"
      ]
     },
     "execution_count": 60,
     "metadata": {},
     "output_type": "execute_result"
    }
   ],
   "source": [
    "# Repeat a tuple three times.\n",
    "tuple1 * 3"
   ]
  },
  {
   "cell_type": "code",
   "execution_count": 61,
   "id": "03192439-975e-4b38-aabf-9c425a9fd479",
   "metadata": {},
   "outputs": [],
   "source": [
    "# Create a nested tuple.\n",
    "tuple5 = (1,2,3,4,5,6,7,8,9,(1,2,3,4))"
   ]
  },
  {
   "cell_type": "code",
   "execution_count": 62,
   "id": "9e1b98bf-90ab-4a56-ae98-65819e84bea3",
   "metadata": {},
   "outputs": [
    {
     "data": {
      "text/plain": [
       "1"
      ]
     },
     "execution_count": 62,
     "metadata": {},
     "output_type": "execute_result"
    }
   ],
   "source": [
    "# Access the first element of a nested tuple.\n",
    "tuple5[-1][0]"
   ]
  },
  {
   "cell_type": "code",
   "execution_count": 63,
   "id": "060fc7c1-fdb9-457f-988e-b9864bc5683d",
   "metadata": {},
   "outputs": [
    {
     "data": {
      "text/plain": [
       "(1,)"
      ]
     },
     "execution_count": 63,
     "metadata": {},
     "output_type": "execute_result"
    }
   ],
   "source": [
    "# Create a tuple with a single element.\n",
    "single_element = (1,)\n",
    "single_element"
   ]
  },
  {
   "cell_type": "code",
   "execution_count": 70,
   "id": "a13cd7a4-fb9d-4ff6-8809-b5f0eaa1a65b",
   "metadata": {},
   "outputs": [],
   "source": [
    "# Delete a tuple.\n",
    "tuple8 = (1,5,8,9,6,4,5)\n",
    "del tuple8"
   ]
  },
  {
   "cell_type": "code",
   "execution_count": 76,
   "id": "12a8b2ab-106c-4e6b-8cf8-1b0f371e79d9",
   "metadata": {},
   "outputs": [
    {
     "data": {
      "text/plain": [
       "(2, 3, 5, 6, 8)"
      ]
     },
     "execution_count": 76,
     "metadata": {},
     "output_type": "execute_result"
    }
   ],
   "source": [
    "# Slice a tuple.\n",
    "tuple4 = (2,3,5,6,8,9,10)\n",
    "tuple4 [0:5]"
   ]
  },
  {
   "cell_type": "code",
   "execution_count": 79,
   "id": "8db8d1fa-2e92-4872-9d54-9c4287096927",
   "metadata": {},
   "outputs": [
    {
     "data": {
      "text/plain": [
       "10"
      ]
     },
     "execution_count": 79,
     "metadata": {},
     "output_type": "execute_result"
    }
   ],
   "source": [
    "# Find the maximum value in a tuple.\n",
    "highesh_number= max (tuple4)\n",
    "highesh_number"
   ]
  },
  {
   "cell_type": "code",
   "execution_count": 80,
   "id": "ebca90cf-0bc9-4fe1-b7f0-64db057d17ea",
   "metadata": {},
   "outputs": [
    {
     "data": {
      "text/plain": [
       "2"
      ]
     },
     "execution_count": 80,
     "metadata": {},
     "output_type": "execute_result"
    }
   ],
   "source": [
    "# Find the minimum value in a tuple.\n",
    "lowest_number = min (tuple4)\n",
    "lowest_number"
   ]
  },
  {
   "cell_type": "code",
   "execution_count": 86,
   "id": "0aba16c2-bf3f-4d37-a2b6-8a7aa938138a",
   "metadata": {},
   "outputs": [
    {
     "data": {
      "text/plain": [
       "(1, 2, 3, 4, 'rakesh', True, 5.6)"
      ]
     },
     "execution_count": 86,
     "metadata": {},
     "output_type": "execute_result"
    }
   ],
   "source": [
    "# Create a tuple from multiple data types.\n",
    "tuple9 = (1,2,3,4, \"rakesh\",True, 5.6)\n",
    "tuple9"
   ]
  },
  {
   "cell_type": "code",
   "execution_count": 1,
   "id": "e3b91e48-cc4e-46e7-8b66-c568d923b283",
   "metadata": {},
   "outputs": [],
   "source": [
    "# Sort the elements of a tuple.\n",
    "tuple6 = (2,8,3,4,5,7,9,1)\n",
    "elements = sorted(tuple6)"
   ]
  },
  {
   "cell_type": "code",
   "execution_count": 3,
   "id": "3bd76a51-b5b3-4f20-b71e-c1b08db1904b",
   "metadata": {},
   "outputs": [
    {
     "data": {
      "text/plain": [
       "[1, 2, 3, 4, 5, 7, 8, 9]"
      ]
     },
     "execution_count": 3,
     "metadata": {},
     "output_type": "execute_result"
    }
   ],
   "source": [
    "elements"
   ]
  },
  {
   "cell_type": "code",
   "execution_count": 4,
   "id": "36baa3d3-a694-40b5-ad87-21a2602520b2",
   "metadata": {},
   "outputs": [
    {
     "data": {
      "text/plain": [
       "(6, 8, 9, 5, 3, 2, 1, 2.2, 3.1, 8.9, 1.1)"
      ]
     },
     "execution_count": 4,
     "metadata": {},
     "output_type": "execute_result"
    }
   ],
   "source": [
    "# Merge two tuples.\n",
    "tuple3 = (6,8,9,5,3,2,1)\n",
    "tuple0 = (2.2,3.1,8.9,1.1)\n",
    "tuple3+tuple0"
   ]
  },
  {
   "cell_type": "markdown",
   "id": "f1eee6c1-75b5-4d5e-945a-789ca28f38d9",
   "metadata": {},
   "source": [
    "Set"
   ]
  },
  {
   "cell_type": "code",
   "execution_count": 15,
   "id": "fbed4e45-63e2-4223-a17f-acf3887f7478",
   "metadata": {},
   "outputs": [
    {
     "data": {
      "text/plain": [
       "{1, 2, 3, 4, 5}"
      ]
     },
     "execution_count": 15,
     "metadata": {},
     "output_type": "execute_result"
    }
   ],
   "source": [
    "# Create a set with integers from 1 to 5.\n",
    "Set1 = {1,2,3,4,5}\n",
    "Set1"
   ]
  },
  {
   "cell_type": "code",
   "execution_count": 16,
   "id": "7f8a6b63-e5f3-4f4e-9695-2e82337ffa59",
   "metadata": {},
   "outputs": [],
   "source": [
    "# Add an element to a set.\n",
    "Set1.add(6)"
   ]
  },
  {
   "cell_type": "code",
   "execution_count": 17,
   "id": "83c6d5a7-c339-4178-8a27-9c66d37d57c2",
   "metadata": {},
   "outputs": [
    {
     "data": {
      "text/plain": [
       "{1, 2, 3, 4, 5, 6}"
      ]
     },
     "execution_count": 17,
     "metadata": {},
     "output_type": "execute_result"
    }
   ],
   "source": [
    "Set1"
   ]
  },
  {
   "cell_type": "code",
   "execution_count": 18,
   "id": "24a8a55b-49c1-4277-b001-3cd9828415f8",
   "metadata": {},
   "outputs": [],
   "source": [
    "# Remove an element from a set.\n",
    "Set1.remove(6)"
   ]
  },
  {
   "cell_type": "code",
   "execution_count": 19,
   "id": "64dac143-d486-4411-aad0-08a715fbea90",
   "metadata": {},
   "outputs": [
    {
     "data": {
      "text/plain": [
       "{1, 2, 3, 4, 5}"
      ]
     },
     "execution_count": 19,
     "metadata": {},
     "output_type": "execute_result"
    }
   ],
   "source": [
    "Set1"
   ]
  },
  {
   "cell_type": "code",
   "execution_count": 23,
   "id": "defb3a9f-e148-4754-a58c-5fbdd7e681c7",
   "metadata": {},
   "outputs": [
    {
     "data": {
      "text/plain": [
       "set()"
      ]
     },
     "execution_count": 23,
     "metadata": {},
     "output_type": "execute_result"
    }
   ],
   "source": [
    "# Clear all elements from a set.\n",
    "Set1.clear()\n",
    "Set1"
   ]
  },
  {
   "cell_type": "code",
   "execution_count": 26,
   "id": "d1a81576-e7f5-416e-8205-d92d6fc312e4",
   "metadata": {},
   "outputs": [
    {
     "data": {
      "text/plain": [
       "{1, 2, 3, 4, 5, 6, 8, 9}"
      ]
     },
     "execution_count": 26,
     "metadata": {},
     "output_type": "execute_result"
    }
   ],
   "source": [
    "# Find the union of two sets.\n",
    "Set2 = {1,2,3,5,6,8,9}\n",
    "Set3 = {2,3,5,6,4,8,9}\n",
    "Union = Set2 | Set3\n",
    "Union"
   ]
  },
  {
   "cell_type": "code",
   "execution_count": 27,
   "id": "9c6da6f5-ef95-48ee-b02e-39b3325373ca",
   "metadata": {},
   "outputs": [
    {
     "data": {
      "text/plain": [
       "{2, 3, 5, 6, 8, 9}"
      ]
     },
     "execution_count": 27,
     "metadata": {},
     "output_type": "execute_result"
    }
   ],
   "source": [
    "# Find the intersection of two sets.\n",
    "Intersection = Set2.intersection(Set3)\n",
    "Intersection"
   ]
  },
  {
   "cell_type": "code",
   "execution_count": 29,
   "id": "77d724d0-f342-46db-98bf-b4cdfe88b60f",
   "metadata": {},
   "outputs": [
    {
     "data": {
      "text/plain": [
       "{1}"
      ]
     },
     "execution_count": 29,
     "metadata": {},
     "output_type": "execute_result"
    }
   ],
   "source": [
    "# Find the difference between two sets.\n",
    "Difference = Set2.difference(Set3)\n",
    "Difference"
   ]
  },
  {
   "cell_type": "code",
   "execution_count": 34,
   "id": "d20bec9a-1ccf-4be6-83f8-6d8bc8b23ed9",
   "metadata": {},
   "outputs": [
    {
     "data": {
      "text/plain": [
       "set"
      ]
     },
     "execution_count": 34,
     "metadata": {},
     "output_type": "execute_result"
    }
   ],
   "source": [
    "# Create a set from a list.\n",
    "my_list = [5,6,8,9]\n",
    "value = set(my_list)\n",
    "type(value)"
   ]
  },
  {
   "cell_type": "code",
   "execution_count": 35,
   "id": "7ae36be9-6837-4ca8-96f5-dbb9256c3b15",
   "metadata": {},
   "outputs": [
    {
     "data": {
      "text/plain": [
       "list"
      ]
     },
     "execution_count": 35,
     "metadata": {},
     "output_type": "execute_result"
    }
   ],
   "source": [
    "# Convert a set to a list.\n",
    "Set4 = {8,9,7}\n",
    "value12 = list(Set4)\n",
    "type(value12)"
   ]
  },
  {
   "cell_type": "code",
   "execution_count": 49,
   "id": "effe802a-48f1-42c2-96b9-98660fac7f32",
   "metadata": {},
   "outputs": [
    {
     "data": {
      "text/plain": [
       "{7, 9}"
      ]
     },
     "execution_count": 49,
     "metadata": {},
     "output_type": "execute_result"
    }
   ],
   "source": [
    "# Pop an element from a set.\n",
    "Set7 = {8,9,7}\n",
    "remove = Set7.pop()\n",
    "Set7"
   ]
  },
  {
   "cell_type": "code",
   "execution_count": 52,
   "id": "5292a93c-66b0-4a1f-b085-55d2fc4521aa",
   "metadata": {},
   "outputs": [
    {
     "data": {
      "text/plain": [
       "{2, 3.3, 4, 6, 8}"
      ]
     },
     "execution_count": 52,
     "metadata": {},
     "output_type": "execute_result"
    }
   ],
   "source": [
    "# Find the symmetric difference between two sets.\n",
    "Set9 = {5,7,8,3.3,8,1}\n",
    "Set0 = {7,5,4,2,1,5,6}\n",
    "Symmetric = Set9.symmetric_difference(Set0)\n",
    "Symmetric"
   ]
  },
  {
   "cell_type": "code",
   "execution_count": 55,
   "id": "d475ea04-8077-47a4-a87c-005ff392437b",
   "metadata": {},
   "outputs": [
    {
     "data": {
      "text/plain": [
       "frozenset({4, 5, 6, 7, 81})"
      ]
     },
     "execution_count": 55,
     "metadata": {},
     "output_type": "execute_result"
    }
   ],
   "source": [
    "# Create a frozen set.\n",
    "my_set = {4,5,6,7,81}\n",
    "frozen = frozenset(my_set)\n",
    "frozen"
   ]
  },
  {
   "cell_type": "code",
   "execution_count": 64,
   "id": "1436a214-5f4b-43f7-b081-290c23bc1896",
   "metadata": {},
   "outputs": [
    {
     "data": {
      "text/plain": [
       "{4, 5, 7, 8}"
      ]
     },
     "execution_count": 64,
     "metadata": {},
     "output_type": "execute_result"
    }
   ],
   "source": [
    "# Remove an element from a set using the discard method.\n",
    "Set55 = {7,5,4,8,8,5,5}\n",
    "Set55.discard(0)\n",
    "Set55"
   ]
  },
  {
   "cell_type": "code",
   "execution_count": 65,
   "id": "037832cc-1c94-453e-a57a-d6da2a7d34ca",
   "metadata": {},
   "outputs": [
    {
     "data": {
      "text/plain": [
       "False"
      ]
     },
     "execution_count": 65,
     "metadata": {},
     "output_type": "execute_result"
    }
   ],
   "source": [
    "# Compare two sets.\n",
    "first = {4,7,8,9}\n",
    "second = {7,8,9,5,6}\n",
    "compare = first.issuperset(second)\n",
    "compare"
   ]
  },
  {
   "cell_type": "code",
   "execution_count": 5,
   "id": "9f52a287-ba98-4261-82a1-a5f8b21a45be",
   "metadata": {},
   "outputs": [
    {
     "data": {
      "text/plain": [
       "set"
      ]
     },
     "execution_count": 5,
     "metadata": {},
     "output_type": "execute_result"
    }
   ],
   "source": [
    "# Create a set from a string.\n",
    "string = \"Rakesh\"\n",
    "create = set(string)\n",
    "type(create)"
   ]
  },
  {
   "cell_type": "code",
   "execution_count": 10,
   "id": "59639411-1bdc-429a-b590-564636f9e00b",
   "metadata": {},
   "outputs": [
    {
     "data": {
      "text/plain": [
       "set"
      ]
     },
     "execution_count": 10,
     "metadata": {},
     "output_type": "execute_result"
    }
   ],
   "source": [
    "# Create a set from a tuple.\n",
    "tuples = (4,6,7)\n",
    "create = set(tuples)\n",
    "type(create)"
   ]
  },
  {
   "cell_type": "code",
   "execution_count": 13,
   "id": "38dbe149-74e2-42ad-94f5-e80e4c9fc40d",
   "metadata": {},
   "outputs": [
    {
     "data": {
      "text/plain": [
       "tuple"
      ]
     },
     "execution_count": 13,
     "metadata": {},
     "output_type": "execute_result"
    }
   ],
   "source": [
    "# Convert a set to a tuple.\n",
    "sets = {4,6,7}\n",
    "create = tuple(sets)\n",
    "type(create)"
   ]
  },
  {
   "cell_type": "code",
   "execution_count": 5,
   "id": "d48d2c58-e7d4-4a57-8977-49ddad4b5aa6",
   "metadata": {},
   "outputs": [
    {
     "data": {
      "text/plain": [
       "7"
      ]
     },
     "execution_count": 5,
     "metadata": {},
     "output_type": "execute_result"
    }
   ],
   "source": [
    "# Find the maximum value in a set.\n",
    "numbers = {4,6,7}\n",
    "highest = max(numbers)\n",
    "highest"
   ]
  },
  {
   "cell_type": "code",
   "execution_count": 6,
   "id": "9149cf01-1636-4f2d-a9e4-5ce0e38c0c33",
   "metadata": {},
   "outputs": [
    {
     "data": {
      "text/plain": [
       "4"
      ]
     },
     "execution_count": 6,
     "metadata": {},
     "output_type": "execute_result"
    }
   ],
   "source": [
    "# Find the minimum value in a set.\n",
    "numbers = {4,6,7}\n",
    "highest = min(numbers)\n",
    "highest"
   ]
  },
  {
   "cell_type": "code",
   "execution_count": 8,
   "id": "e2e92e43-df66-47e8-a590-89a8a3174e04",
   "metadata": {},
   "outputs": [
    {
     "name": "stdin",
     "output_type": "stream",
     "text": [
      "Enter any integer value 6564164414\n"
     ]
    },
    {
     "data": {
      "text/plain": [
       "{'1', '4', '5', '6'}"
      ]
     },
     "execution_count": 8,
     "metadata": {},
     "output_type": "execute_result"
    }
   ],
   "source": [
    "# Create a set from user input.\n",
    "user = input(\"Enter any integer value\")\n",
    "user_input = set(user)\n",
    "user_input"
   ]
  },
  {
   "cell_type": "code",
   "execution_count": 11,
   "id": "3d0b14d7-53f8-470f-ab11-1c74d80cc72f",
   "metadata": {},
   "outputs": [
    {
     "data": {
      "text/plain": [
       "{1, 2, 3, 5, 6, 8, 9}"
      ]
     },
     "execution_count": 11,
     "metadata": {},
     "output_type": "execute_result"
    }
   ],
   "source": [
    "# Remove duplicates from a list using sets.\n",
    "numbers = [1,2,3,5,5,6,8,6,9,9]\n",
    "duplicates = set(numbers)\n",
    "duplicates"
   ]
  },
  {
   "cell_type": "code",
   "execution_count": 14,
   "id": "d3db567d-f14b-42c9-bf0b-b54f4fd95fe4",
   "metadata": {},
   "outputs": [
    {
     "data": {
      "text/plain": [
       "{1, 2, 3, 4, 5, 6, 7, 8, 9}"
      ]
     },
     "execution_count": 14,
     "metadata": {},
     "output_type": "execute_result"
    }
   ],
   "source": [
    "# Merge multiple sets into one.\n",
    "set1 = {1,2,3}\n",
    "set2 = {4,5,6}\n",
    "set3 = {7,8,9}\n",
    "merged_set = set1.union(set2,set3)\n",
    "merged_set"
   ]
  }
 ],
 "metadata": {
  "kernelspec": {
   "display_name": "Python 3 (ipykernel)",
   "language": "python",
   "name": "python3"
  },
  "language_info": {
   "codemirror_mode": {
    "name": "ipython",
    "version": 3
   },
   "file_extension": ".py",
   "mimetype": "text/x-python",
   "name": "python",
   "nbconvert_exporter": "python",
   "pygments_lexer": "ipython3",
   "version": "3.10.8"
  }
 },
 "nbformat": 4,
 "nbformat_minor": 5
}
